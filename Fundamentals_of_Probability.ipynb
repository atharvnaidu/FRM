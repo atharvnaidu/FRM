{
  "nbformat": 4,
  "nbformat_minor": 0,
  "metadata": {
    "colab": {
      "provenance": [],
      "authorship_tag": "ABX9TyPkoQxby4TYpwAIiLjGufQF",
      "include_colab_link": true
    },
    "kernelspec": {
      "name": "python3",
      "display_name": "Python 3"
    },
    "language_info": {
      "name": "python"
    }
  },
  "cells": [
    {
      "cell_type": "markdown",
      "metadata": {
        "id": "view-in-github",
        "colab_type": "text"
      },
      "source": [
        "<a href=\"https://colab.research.google.com/github/atharvnaidu/FRM/blob/main/Fundamentals_of_Probability.ipynb\" target=\"_parent\"><img src=\"https://colab.research.google.com/assets/colab-badge.svg\" alt=\"Open In Colab\"/></a>"
      ]
    },
    {
      "cell_type": "markdown",
      "source": [
        "# Chapter 1: Fundamentals of Probability"
      ],
      "metadata": {
        "id": "weRQY7PIP2jn"
      }
    },
    {
      "cell_type": "markdown",
      "source": [
        "### Key Equations"
      ],
      "metadata": {
        "id": "VuY39YxuQLwH"
      }
    },
    {
      "cell_type": "code",
      "execution_count": null,
      "metadata": {
        "id": "gAD8Y7Gu16Ds"
      },
      "outputs": [],
      "source": [
        "##Bayes Rule\n",
        "\n",
        "def BayesRule(p_a, p_b, p_b_given_a):\n",
        "  ##Returns p_a_given_b\n",
        "  return p_b_given_a * p_a / p_b\n",
        "\n"
      ]
    },
    {
      "cell_type": "markdown",
      "source": [
        "###Describe Independent Events and Mutally Exclusive Events"
      ],
      "metadata": {
        "id": "fc0vaiIfPz4B"
      }
    },
    {
      "cell_type": "code",
      "source": [
        "##Probability of two mutually exclusive events occuring\n",
        "\n",
        "def twomutual(p_a, p_b):\n",
        "  return p_a + p_b\n",
        "\n",
        "##Probability of multiple mutally exclusive events occuring\n",
        "def mutual(prob_arr):\n",
        "  ##takes an array of probability values\n",
        "  return sum(prob_arr)"
      ],
      "metadata": {
        "id": "-Yk33D9pQ0og"
      },
      "execution_count": null,
      "outputs": []
    }
  ]
}