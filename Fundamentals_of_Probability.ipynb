{
  "nbformat": 4,
  "nbformat_minor": 0,
  "metadata": {
    "colab": {
      "provenance": [],
      "authorship_tag": "ABX9TyMxEryxi6IKyZusvFtYJmKf",
      "include_colab_link": true
    },
    "kernelspec": {
      "name": "python3",
      "display_name": "Python 3"
    },
    "language_info": {
      "name": "python"
    }
  },
  "cells": [
    {
      "cell_type": "markdown",
      "metadata": {
        "id": "view-in-github",
        "colab_type": "text"
      },
      "source": [
        "<a href=\"https://colab.research.google.com/github/atharvnaidu/FRM/blob/main/Fundamentals_of_Probability.ipynb\" target=\"_parent\"><img src=\"https://colab.research.google.com/assets/colab-badge.svg\" alt=\"Open In Colab\"/></a>"
      ]
    },
    {
      "cell_type": "markdown",
      "source": [
        "# Chapter 1: Fundamentals of Probability"
      ],
      "metadata": {
        "id": "weRQY7PIP2jn"
      }
    },
    {
      "cell_type": "markdown",
      "source": [
        "### Key Equations"
      ],
      "metadata": {
        "id": "VuY39YxuQLwH"
      }
    },
    {
      "cell_type": "code",
      "execution_count": null,
      "metadata": {
        "id": "gAD8Y7Gu16Ds"
      },
      "outputs": [],
      "source": [
        "##Bayes Rule\n",
        "def BayesRule(p_a, p_b, p_b_given_a):\n",
        "  ##Returns p_a_given_b\n",
        "  return p_b_given_a * p_a / p_b"
      ]
    },
    {
      "cell_type": "markdown",
      "source": [
        "###Describe Independent Events, Mutally Exclusive Events, Conditional Independence"
      ],
      "metadata": {
        "id": "fc0vaiIfPz4B"
      }
    },
    {
      "cell_type": "code",
      "source": [
        "##Probability of two mutually exclusive events occuring\n",
        "def twomutual(p_a, p_b):\n",
        "  return p_a + p_b\n",
        "\n",
        "##Probability of multiple mutally exclusive events occuring\n",
        "def mutual(prob_arr):\n",
        "  ##Takes an array of probability values\n",
        "  return sum(prob_arr)\n",
        "\n",
        "##Check for independence of two probabilities\n",
        "def isIndependent(p_x_and_y, p_x, p_y):\n",
        "  return p_x_and_y == p_x * p_y\n",
        "\n",
        "##Check for Conditional Independence\n",
        "def isConditionallyIndependent(p_a_and_b_given_c, p_a_given_c, p_b_given_c):\n",
        "  return p_a_and_b_given_c == p_a_given_c * p_b_given_c\n",
        "\n",
        "##NOTE: EVENTS CAN BE UNCONDITIONALLY DEPENDENT YET CONDITIONALLY INDEPENDENT\n",
        "##E.G: Height and vocab of child is unconditionally dependent, but if we condition on age (var c) they are conditionally indepdendent\n",
        "##EVENTS CAN ALSO BE UNCONDITIONALLY INDEPENDENT YET CONDITIONALLY DEPENDENT"
      ],
      "metadata": {
        "id": "-Yk33D9pQ0og"
      },
      "execution_count": null,
      "outputs": []
    },
    {
      "cell_type": "markdown",
      "source": [
        "###"
      ],
      "metadata": {
        "id": "eukFRicnSVti"
      }
    }
  ]
}