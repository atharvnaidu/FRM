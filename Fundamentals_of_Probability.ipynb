{
  "nbformat": 4,
  "nbformat_minor": 0,
  "metadata": {
    "colab": {
      "provenance": [],
      "authorship_tag": "ABX9TyOKoek0cqk5U9St4cTQNvOQ",
      "include_colab_link": true
    },
    "kernelspec": {
      "name": "python3",
      "display_name": "Python 3"
    },
    "language_info": {
      "name": "python"
    }
  },
  "cells": [
    {
      "cell_type": "markdown",
      "metadata": {
        "id": "view-in-github",
        "colab_type": "text"
      },
      "source": [
        "<a href=\"https://colab.research.google.com/github/atharvnaidu/FRM/blob/main/Fundamentals_of_Probability.ipynb\" target=\"_parent\"><img src=\"https://colab.research.google.com/assets/colab-badge.svg\" alt=\"Open In Colab\"/></a>"
      ]
    },
    {
      "cell_type": "code",
      "execution_count": null,
      "metadata": {
        "colab": {
          "base_uri": "https://localhost:8080/"
        },
        "id": "gAD8Y7Gu16Ds",
        "outputId": "40624c40-46e6-41eb-8c35-47eb45090342"
      },
      "outputs": [
        {
          "output_type": "stream",
          "name": "stdout",
          "text": [
            "hello\n"
          ]
        }
      ],
      "source": [
        "##Chapter 1##\n",
        "\n",
        "##Key Equations:\n",
        "\n",
        "##Bayes Rule##\n",
        "def BayesRule(p_a, p_b, p_b_given_a):\n",
        "  ##Returns p_a_given_b\n",
        "  return p_b_given_a * p_a / p_b\n",
        "\n"
      ]
    }
  ]
}